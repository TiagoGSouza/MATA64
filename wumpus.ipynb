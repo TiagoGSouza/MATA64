{
 "cells": [
  {
   "cell_type": "code",
   "execution_count": null,
   "metadata": {},
   "outputs": [],
   "source": [
    "#bibliotecas\n",
    "import numpy as np"
   ]
  },
  {
   "cell_type": "code",
   "execution_count": null,
   "metadata": {},
   "outputs": [],
   "source": [
    "#inicializar ambiente, acoes, estados, recompensas, transicoes\n",
    "#   estados\n",
    "# 14 24 34 44\n",
    "# 13 23 33 43\n",
    "# 12 22 32 42\n",
    "# 11 21 31 41\n",
    "\n",
    "# x = int('s1' / 10) -> pego a coordenada x\n",
    "#   se x == 1 -> nao posso mover para esquerda\n",
    "#   se x == 4 -> nao posso mover para direita\n",
    "\n",
    "# y = 's1' % 10 -> pego cordenada y\n",
    "#   se y == 1 -> nao posso mover para baixo\n",
    "#   se y == 4 -> nao posso mover para cima\n",
    "\n",
    "#   recompensas\n",
    "# mover para espaço vazio = -1\n",
    "# mover para espaço com poço ou wumpus = -100\n",
    "# pegar o ouro = 100\n",
    "# sair da caverna com o ouro = 500\n",
    "\n",
    "q_table = np.zeros((16, 4))\n",
    "q_table"
   ]
  },
  {
   "cell_type": "code",
   "execution_count": 7,
   "metadata": {},
   "outputs": [
    {
     "name": "stdout",
     "output_type": "stream",
     "text": [
      "1\n",
      "1\n",
      "2\n"
     ]
    }
   ],
   "source": [
    "#funcao para rodar o ambiente\n"
   ]
  },
  {
   "cell_type": "code",
   "execution_count": null,
   "metadata": {},
   "outputs": [],
   "source": [
    "#q-learning\n",
    "#q_table\n",
    "#Cada linha representa os estados e cada coluna as ações possíveis em cada estado\n",
    "#array([\n",
    "#00      [0, 0, 0, 0, 0, 0]\n",
    "#        ...,\n",
    "#15      [0, 0, 0, 0, 0, 0]])"
   ]
  },
  {
   "cell_type": "code",
   "execution_count": null,
   "metadata": {},
   "outputs": [],
   "source": [
    "#Treinamento: para cada estado, selecionar uma ação a partir deste estado\n",
    "# Hyperparameters\n",
    "alpha = 0.1 #taxa de aprendizado\n",
    "gamma = 0.6 #fator de desconto\n",
    "epsilon = 0.1 #parametro que auxilia a decidir entre exploration e explotation \n",
    "              #e evitar overfitting (escolha da mesma rota sempre)"
   ]
  }
 ],
 "metadata": {
  "kernelspec": {
   "display_name": "Python 3",
   "language": "python",
   "name": "python3"
  },
  "language_info": {
   "codemirror_mode": {
    "name": "ipython",
    "version": 3
   },
   "file_extension": ".py",
   "mimetype": "text/x-python",
   "name": "python",
   "nbconvert_exporter": "python",
   "pygments_lexer": "ipython3",
   "version": "3.10.11"
  },
  "orig_nbformat": 4
 },
 "nbformat": 4,
 "nbformat_minor": 2
}
